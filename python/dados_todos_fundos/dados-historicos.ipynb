{
 "cells": [
  {
   "cell_type": "code",
   "execution_count": 1,
   "id": "16b16e3c",
   "metadata": {},
   "outputs": [
    {
     "data": {
      "text/plain": [
       "'pt_BR.utf8'"
      ]
     },
     "execution_count": 1,
     "metadata": {},
     "output_type": "execute_result"
    }
   ],
   "source": [
    "import pandas as pd\n",
    "from pandas_datareader import data as web\n",
    "import matplotlib.pyplot as plt\n",
    "import datetime\n",
    "import locale\n",
    "\n",
    "locale.setlocale(locale.LC_TIME, 'pt_BR.utf8')"
   ]
  },
  {
   "cell_type": "code",
   "execution_count": 2,
   "id": "e3bccc8f",
   "metadata": {},
   "outputs": [],
   "source": [
    "dt_start = '2020-01-01'\n",
    "dt_end = '2020-12-01'\n",
    "interval = 'm'"
   ]
  },
  {
   "cell_type": "code",
   "execution_count": 3,
   "id": "b20f966b",
   "metadata": {},
   "outputs": [],
   "source": [
    "def format_files(active, dt_start, dt_end):\n",
    "    \n",
    "    if active == 'ibovespa':\n",
    "        df = web.get_data_yahoo('^BVSP', start=dt_start, end=dt_end,interval=interval).reset_index()\n",
    "    else:\n",
    "        df = web.get_data_yahoo(f'{active}.SA', start=dt_start, end=dt_end,interval=interval).reset_index()\n",
    "    \n",
    "    df.rename(columns={'Date': 'data',\n",
    "                       'High': 'maxima', \n",
    "                       'Low': 'minima', \n",
    "                       'Open': 'abertura', \n",
    "                       'Adj Close': 'fechamento_adj', \n",
    "                       'Volume': 'volume'}, inplace=True)\n",
    "    df['variacao'] = (df['fechamento_adj']-df['abertura'])/df['abertura']\n",
    "    df = df[['data', 'maxima', 'minima', 'abertura', 'fechamento_adj', 'variacao']]\n",
    "    \n",
    "    start_month = datetime.datetime.strptime(dt_start, \"%Y-%m-%d\").strftime(\"%b\").upper()\n",
    "    start_year = datetime.datetime.strptime(dt_start, \"%Y-%m-%d\").strftime(\"%y\")\n",
    "\n",
    "    end_month = datetime.datetime.strptime(dt_end, \"%Y-%m-%d\").strftime(\"%b\").upper()\n",
    "    end_year = datetime.datetime.strptime(dt_end, \"%Y-%m-%d\").strftime(\"%y\")\n",
    "\n",
    "    file_name = f\"{active.lower()}_{start_month}{start_year}_{end_month}{end_year}\"\n",
    "    print(file_name)\n",
    "    df.to_csv(f\"./{start_month}{start_year}_{end_month}{end_year}/{file_name}.csv\",index=False)"
   ]
  },
  {
   "cell_type": "code",
   "execution_count": 4,
   "id": "50def2bc",
   "metadata": {},
   "outputs": [
    {
     "name": "stdout",
     "output_type": "stream",
     "text": [
      "ibovespa_JAN20_DEZ20\n"
     ]
    }
   ],
   "source": [
    "format_files('ibovespa', dt_start, dt_end)"
   ]
  },
  {
   "cell_type": "code",
   "execution_count": 5,
   "id": "2a849add",
   "metadata": {},
   "outputs": [
    {
     "name": "stdout",
     "output_type": "stream",
     "text": [
      "vale3_JAN20_DEZ20\n",
      "petr4_JAN20_DEZ20\n",
      "itub4_JAN20_DEZ20\n",
      "bbdc4_JAN20_DEZ20\n",
      "petr3_JAN20_DEZ20\n",
      "b3sa3_JAN20_DEZ20\n",
      "abev3_JAN20_DEZ20\n",
      "elet3_JAN20_DEZ20\n",
      "bbas3_JAN20_DEZ20\n",
      "rent3_JAN20_DEZ20\n",
      "itsa4_JAN20_DEZ20\n",
      "wege3_JAN20_DEZ20\n",
      "hapv3_JAN20_DEZ20\n",
      "Erro no ativo RDOR3\n",
      "bpac11_JAN20_DEZ20\n",
      "suzb3_JAN20_DEZ20\n",
      "jbss3_JAN20_DEZ20\n",
      "eqtl3_JAN20_DEZ20\n",
      "radl3_JAN20_DEZ20\n",
      "lren3_JAN20_DEZ20\n",
      "ggbr4_JAN20_DEZ20\n",
      "bbdc3_JAN20_DEZ20\n",
      "enev3_JAN20_DEZ20\n",
      "prio3_JAN20_DEZ20\n",
      "rail3_JAN20_DEZ20\n",
      "csan3_JAN20_DEZ20\n",
      "vbbr3_JAN20_DEZ20\n",
      "bbse3_JAN20_DEZ20\n",
      "hype3_JAN20_DEZ20\n",
      "vivt3_JAN20_DEZ20\n",
      "cmig4_JAN20_DEZ20\n",
      "sbsp3_JAN20_DEZ20\n",
      "tots3_JAN20_DEZ20\n",
      "ccro3_JAN20_DEZ20\n",
      "brfs3_JAN20_DEZ20\n",
      "Erro no ativo ASAI3\n",
      "ugpa3_JAN20_DEZ20\n",
      "elet6_JAN20_DEZ20\n",
      "mglu3_JAN20_DEZ20\n",
      "ntco3_JAN20_DEZ20\n",
      "klbn11_JAN20_DEZ20\n",
      "engi11_JAN20_DEZ20\n",
      "crfb3_JAN20_DEZ20\n",
      "sanb11_JAN20_DEZ20\n",
      "cple6_JAN20_DEZ20\n",
      "amer3_JAN20_DEZ20\n",
      "egie3_JAN20_DEZ20\n",
      "tims3_JAN20_DEZ20\n",
      "embr3_JAN20_DEZ20\n",
      "taee11_JAN20_DEZ20\n",
      "brml3_JAN20_DEZ20\n",
      "brkm5_JAN20_DEZ20\n",
      "csna3_JAN20_DEZ20\n",
      "rrrp3_JAN20_DEZ20\n",
      "sula11_JAN20_DEZ20\n",
      "goau4_JAN20_DEZ20\n",
      "soma3_JAN20_DEZ20\n",
      "cpfe3_JAN20_DEZ20\n",
      "mult3_JAN20_DEZ20\n",
      "arzz3_JAN20_DEZ20\n",
      "enbr3_JAN20_DEZ20\n",
      "brap4_JAN20_DEZ20\n",
      "ciel3_JAN20_DEZ20\n",
      "flry3_JAN20_DEZ20\n",
      "Erro no ativo RAIZ4\n",
      "cogn3_JAN20_DEZ20\n",
      "viia3_JAN20_DEZ20\n",
      "azul4_JAN20_DEZ20\n",
      "slce3_JAN20_DEZ20\n",
      "cyre3_JAN20_DEZ20\n",
      "alpa4_JAN20_DEZ20\n",
      "yduq3_JAN20_DEZ20\n",
      "usim5_JAN20_DEZ20\n",
      "smto3_JAN20_DEZ20\n",
      "Erro no ativo CMIN3\n",
      "lwsa3_JAN20_DEZ20\n",
      "petz3_JAN20_DEZ20\n",
      "mrve3_JAN20_DEZ20\n",
      "Erro no ativo IGTI11\n",
      "mrfg3_JAN20_DEZ20\n",
      "beef3_JAN20_DEZ20\n",
      "pcar3_JAN20_DEZ20\n",
      "dxco3_JAN20_DEZ20\n",
      "irbr3_JAN20_DEZ20\n",
      "qual3_JAN20_DEZ20\n",
      "bpan4_JAN20_DEZ20\n",
      "eztc3_JAN20_DEZ20\n",
      "cvcb3_JAN20_DEZ20\n",
      "ecor3_JAN20_DEZ20\n",
      "goll4_JAN20_DEZ20\n",
      "posi3_JAN20_DEZ20\n",
      "cash3_JAN20_DEZ20\n"
     ]
    }
   ],
   "source": [
    "df_bvsp_actives = (\n",
    "    pd.read_csv(\"IBOVDia_26-09-22.csv\")\n",
    "    .sort_values('part', ascending=False)\n",
    "    [['codigo', 'part']])\n",
    "\n",
    "for index, row in df_bvsp_actives.iterrows():\n",
    "    active = f\"{row['codigo']}\"\n",
    "    try:\n",
    "        format_files(active, dt_start, dt_end)\n",
    "    except KeyError:\n",
    "        print(f'Erro no ativo {active}')\n",
    "        pass\n",
    "\n",
    "df_bvsp_actives['codigo'] = df_bvsp_actives['codigo'].str.lower()\n",
    "\n",
    "df_bvsp_actives.to_csv(f\"./composicao_ibovespa_26_09_22.csv\",index=False)"
   ]
  }
 ],
 "metadata": {
  "kernelspec": {
   "display_name": "Python 3 (ipykernel)",
   "language": "python",
   "name": "python3"
  },
  "language_info": {
   "codemirror_mode": {
    "name": "ipython",
    "version": 3
   },
   "file_extension": ".py",
   "mimetype": "text/x-python",
   "name": "python",
   "nbconvert_exporter": "python",
   "pygments_lexer": "ipython3",
   "version": "3.10.4"
  }
 },
 "nbformat": 4,
 "nbformat_minor": 5
}
