{
 "cells": [
  {
   "cell_type": "code",
   "execution_count": 1,
   "id": "16b16e3c",
   "metadata": {},
   "outputs": [
    {
     "data": {
      "text/plain": [
       "'pt_BR.utf8'"
      ]
     },
     "execution_count": 1,
     "metadata": {},
     "output_type": "execute_result"
    }
   ],
   "source": [
    "import pandas as pd\n",
    "from pandas_datareader import data as web\n",
    "import matplotlib.pyplot as plt\n",
    "import datetime\n",
    "import locale\n",
    "\n",
    "locale.setlocale(locale.LC_TIME, 'pt_BR.utf8')"
   ]
  },
  {
   "cell_type": "code",
   "execution_count": 2,
   "id": "e3bccc8f",
   "metadata": {},
   "outputs": [],
   "source": [
    "dt_start = '2021-01-01'\n",
    "dt_end = '2021-12-01'\n",
    "interval = 'm'"
   ]
  },
  {
   "cell_type": "code",
   "execution_count": 3,
   "id": "b20f966b",
   "metadata": {},
   "outputs": [],
   "source": [
    "def format_files(active, dt_start, dt_end):\n",
    "    \n",
    "    if active == 'ibovespa':\n",
    "        df = web.get_data_yahoo('^BVSP', start=dt_start, end=dt_end,interval=interval).reset_index()\n",
    "    else:\n",
    "        df = web.get_data_yahoo(f'{active}.SA', start=dt_start, end=dt_end,interval=interval).reset_index()\n",
    "    \n",
    "    df.rename(columns={'Date': 'data',\n",
    "                       'High': 'maxima', \n",
    "                       'Low': 'minima', \n",
    "                       'Open': 'abertura', \n",
    "                       'Adj Close': 'fechamento_adj', \n",
    "                       'Volume': 'volume'}, inplace=True)\n",
    "    df['variacao'] = (df['fechamento_adj']-df['abertura'])/df['abertura']\n",
    "    df = df[['data', 'maxima', 'minima', 'abertura', 'fechamento_adj', 'variacao']]\n",
    "    \n",
    "    start_month = datetime.datetime.strptime(dt_start, \"%Y-%m-%d\").strftime(\"%b\").upper()\n",
    "    start_year = datetime.datetime.strptime(dt_start, \"%Y-%m-%d\").strftime(\"%y\")\n",
    "\n",
    "    end_month = datetime.datetime.strptime(dt_end, \"%Y-%m-%d\").strftime(\"%b\").upper()\n",
    "    end_year = datetime.datetime.strptime(dt_end, \"%Y-%m-%d\").strftime(\"%y\")\n",
    "\n",
    "    file_name = f\"{active.lower()}_{start_month}{start_year}_{end_month}{end_year}\"\n",
    "    print(file_name)\n",
    "    df.to_csv(f\"./dados_fundos/{file_name}.csv\",index=False)"
   ]
  },
  {
   "cell_type": "code",
   "execution_count": 4,
   "id": "50def2bc",
   "metadata": {},
   "outputs": [
    {
     "name": "stdout",
     "output_type": "stream",
     "text": [
      "ibovespa_JAN21_DEZ21\n"
     ]
    }
   ],
   "source": [
    "format_files('ibovespa', dt_start, dt_end)"
   ]
  },
  {
   "cell_type": "code",
   "execution_count": 5,
   "id": "2a849add",
   "metadata": {},
   "outputs": [
    {
     "name": "stdout",
     "output_type": "stream",
     "text": [
      "vale3_JAN21_DEZ21\n",
      "petr4_JAN21_DEZ21\n",
      "itub4_JAN21_DEZ21\n",
      "bbdc4_JAN21_DEZ21\n",
      "petr3_JAN21_DEZ21\n",
      "b3sa3_JAN21_DEZ21\n",
      "abev3_JAN21_DEZ21\n",
      "elet3_JAN21_DEZ21\n",
      "bbas3_JAN21_DEZ21\n",
      "rent3_JAN21_DEZ21\n",
      "itsa4_JAN21_DEZ21\n",
      "wege3_JAN21_DEZ21\n",
      "hapv3_JAN21_DEZ21\n",
      "rdor3_JAN21_DEZ21\n",
      "bpac11_JAN21_DEZ21\n",
      "suzb3_JAN21_DEZ21\n",
      "jbss3_JAN21_DEZ21\n",
      "eqtl3_JAN21_DEZ21\n",
      "radl3_JAN21_DEZ21\n",
      "lren3_JAN21_DEZ21\n",
      "ggbr4_JAN21_DEZ21\n",
      "bbdc3_JAN21_DEZ21\n",
      "enev3_JAN21_DEZ21\n",
      "prio3_JAN21_DEZ21\n",
      "rail3_JAN21_DEZ21\n",
      "csan3_JAN21_DEZ21\n",
      "vbbr3_JAN21_DEZ21\n",
      "bbse3_JAN21_DEZ21\n",
      "hype3_JAN21_DEZ21\n",
      "vivt3_JAN21_DEZ21\n",
      "cmig4_JAN21_DEZ21\n",
      "sbsp3_JAN21_DEZ21\n",
      "tots3_JAN21_DEZ21\n",
      "ccro3_JAN21_DEZ21\n",
      "brfs3_JAN21_DEZ21\n",
      "asai3_JAN21_DEZ21\n",
      "ugpa3_JAN21_DEZ21\n",
      "elet6_JAN21_DEZ21\n",
      "mglu3_JAN21_DEZ21\n",
      "ntco3_JAN21_DEZ21\n",
      "klbn11_JAN21_DEZ21\n",
      "engi11_JAN21_DEZ21\n",
      "crfb3_JAN21_DEZ21\n",
      "sanb11_JAN21_DEZ21\n",
      "cple6_JAN21_DEZ21\n",
      "amer3_JAN21_DEZ21\n",
      "egie3_JAN21_DEZ21\n",
      "tims3_JAN21_DEZ21\n",
      "embr3_JAN21_DEZ21\n",
      "taee11_JAN21_DEZ21\n",
      "brml3_JAN21_DEZ21\n",
      "brkm5_JAN21_DEZ21\n",
      "csna3_JAN21_DEZ21\n",
      "rrrp3_JAN21_DEZ21\n",
      "sula11_JAN21_DEZ21\n",
      "goau4_JAN21_DEZ21\n",
      "soma3_JAN21_DEZ21\n",
      "cpfe3_JAN21_DEZ21\n",
      "mult3_JAN21_DEZ21\n",
      "arzz3_JAN21_DEZ21\n",
      "enbr3_JAN21_DEZ21\n",
      "brap4_JAN21_DEZ21\n",
      "ciel3_JAN21_DEZ21\n",
      "flry3_JAN21_DEZ21\n",
      "raiz4_JAN21_DEZ21\n",
      "cogn3_JAN21_DEZ21\n",
      "viia3_JAN21_DEZ21\n",
      "azul4_JAN21_DEZ21\n",
      "slce3_JAN21_DEZ21\n",
      "cyre3_JAN21_DEZ21\n",
      "alpa4_JAN21_DEZ21\n",
      "yduq3_JAN21_DEZ21\n",
      "usim5_JAN21_DEZ21\n",
      "smto3_JAN21_DEZ21\n",
      "cmin3_JAN21_DEZ21\n",
      "lwsa3_JAN21_DEZ21\n",
      "petz3_JAN21_DEZ21\n",
      "mrve3_JAN21_DEZ21\n",
      "igti11_JAN21_DEZ21\n",
      "mrfg3_JAN21_DEZ21\n",
      "beef3_JAN21_DEZ21\n",
      "pcar3_JAN21_DEZ21\n",
      "dxco3_JAN21_DEZ21\n",
      "irbr3_JAN21_DEZ21\n",
      "qual3_JAN21_DEZ21\n",
      "bpan4_JAN21_DEZ21\n",
      "eztc3_JAN21_DEZ21\n",
      "cvcb3_JAN21_DEZ21\n",
      "ecor3_JAN21_DEZ21\n",
      "goll4_JAN21_DEZ21\n",
      "posi3_JAN21_DEZ21\n",
      "cash3_JAN21_DEZ21\n"
     ]
    }
   ],
   "source": [
    "df_bvsp_actives = (\n",
    "    pd.read_csv(\"IBOVDia_26-09-22.csv\")\n",
    "    .sort_values('part', ascending=False)\n",
    "    [['codigo', 'part']])\n",
    "\n",
    "for index, row in df_bvsp_actives.iterrows():\n",
    "    active = f\"{row['codigo']}\"\n",
    "    try:\n",
    "        format_files(active, dt_start, dt_end)\n",
    "    except KeyError:\n",
    "        print(f'Erro no ativo {active}')\n",
    "        pass\n",
    "\n",
    "df_bvsp_actives['codigo'] = df_bvsp_actives['codigo'].str.lower()\n",
    "\n",
    "df_bvsp_actives.to_csv(f\"./composicao_ibovespa_26_09_22.csv\",index=False)"
   ]
  }
 ],
 "metadata": {
  "kernelspec": {
   "display_name": "Python 3 (ipykernel)",
   "language": "python",
   "name": "python3"
  },
  "language_info": {
   "codemirror_mode": {
    "name": "ipython",
    "version": 3
   },
   "file_extension": ".py",
   "mimetype": "text/x-python",
   "name": "python",
   "nbconvert_exporter": "python",
   "pygments_lexer": "ipython3",
   "version": "3.10.4"
  }
 },
 "nbformat": 4,
 "nbformat_minor": 5
}
