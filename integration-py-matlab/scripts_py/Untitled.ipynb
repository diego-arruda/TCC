{
 "cells": [
  {
   "cell_type": "code",
   "execution_count": null,
   "id": "b6fa2931",
   "metadata": {},
   "outputs": [],
   "source": [
    "import pandas as pd"
   ]
  },
  {
   "cell_type": "code",
   "execution_count": null,
   "id": "625ed5d5",
   "metadata": {},
   "outputs": [],
   "source": [
    "[0,\n",
    "-0.021367176589356468\n",
    "-0.023766261883172976\n",
    "0.0320523998909866\n",
    "0.0369473063291957\n",
    "0.05055220766811691\n",
    "-0.02844409318978587\n",
    "-0.058947360813655904\n",
    "-0.09043386470858311\n",
    "-0.1570880981425068\n",
    "-0.05991674443752901\n",
    "-0.030028410851712026\n",
    "0.04466491989769021\n",
    "0.12210559109534203]"
   ]
  }
 ],
 "metadata": {
  "kernelspec": {
   "display_name": "Python 3 (ipykernel)",
   "language": "python",
   "name": "python3"
  },
  "language_info": {
   "codemirror_mode": {
    "name": "ipython",
    "version": 3
   },
   "file_extension": ".py",
   "mimetype": "text/x-python",
   "name": "python",
   "nbconvert_exporter": "python",
   "pygments_lexer": "ipython3",
   "version": "3.9.10"
  }
 },
 "nbformat": 4,
 "nbformat_minor": 5
}
