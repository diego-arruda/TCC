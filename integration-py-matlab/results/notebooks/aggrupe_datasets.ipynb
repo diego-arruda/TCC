{
 "cells": [
  {
   "cell_type": "code",
   "execution_count": 1,
   "id": "815dfb28",
   "metadata": {},
   "outputs": [
    {
     "data": {
      "text/plain": [
       "'pt_BR.utf8'"
      ]
     },
     "execution_count": 1,
     "metadata": {},
     "output_type": "execute_result"
    }
   ],
   "source": [
    "import pandas as pd\n",
    "import datetime\n",
    "from datetime import datetime\n",
    "from dateutil.relativedelta import relativedelta\n",
    "import locale\n",
    "import os\n",
    "import os.path\n",
    "from os import path\n",
    "\n",
    "from unidecode import unidecode\n",
    "import matplotlib.pyplot as plt\n",
    "\n",
    "locale.setlocale(locale.LC_TIME, 'pt_BR.utf8')"
   ]
  },
  {
   "cell_type": "code",
   "execution_count": 2,
   "id": "73231f2b",
   "metadata": {},
   "outputs": [],
   "source": [
    "def format_date(date, series = False, interval = 'm'):\n",
    "    \n",
    "    if series:\n",
    "        date = date.dt\n",
    "    \n",
    "    if interval == 'm':\n",
    "        format_date = (date.strftime(\"%b\")+date.strftime(\"%y\"))\n",
    "    elif interval == 'w':\n",
    "        format_date = (date.strftime(\"%d\")+'-'+date.strftime(\"%b\")+date.strftime(\"%y\"))\n",
    "        \n",
    "    return format_date"
   ]
  },
  {
   "cell_type": "code",
   "execution_count": 3,
   "id": "9791e790",
   "metadata": {},
   "outputs": [],
   "source": [
    "def aggrupe_datasets(v_start_date, v_end_date, period, from_folder, to_folder, models):\n",
    "\n",
    "    for model in models:\n",
    "\n",
    "        df_results = []\n",
    "        new_v_end_date = v_start_date\n",
    "        new_v_start_date = v_start_date\n",
    "\n",
    "        i = 0\n",
    "\n",
    "        while new_v_end_date < v_end_date:\n",
    "\n",
    "            new_v_end_date = (datetime.strptime(new_v_start_date, \"%Y-%m-%d\") + \n",
    "                      relativedelta(months=period-1)).strftime('%Y-%m-%d')\n",
    "\n",
    "            t_end_date = (datetime.strptime(new_v_start_date, \"%Y-%m-%d\") - \n",
    "                          relativedelta(months=1)).strftime('%Y-%m-%d')\n",
    "\n",
    "            t_start_date = (datetime.strptime(t_end_date, \"%Y-%m-%d\") - \n",
    "                            relativedelta(months=period-1)).strftime('%Y-%m-%d')\n",
    "\n",
    "            train_folder = (f\"T_{t_start_date}_{t_end_date}\")\n",
    "            validation_folder = (f\"V_{new_v_start_date}_{new_v_end_date}\")\n",
    "\n",
    "\n",
    "            file_path = f'../{from_folder}/{train_folder}/{validation_folder}/{model}.csv'\n",
    "\n",
    "            if path.exists(file_path):\n",
    "                if i == 0:\n",
    "                    df_results = pd.read_csv(file_path)\n",
    "                    new_start_t_folder = t_start_date\n",
    "                    new_start_v_folder = new_v_start_date\n",
    "                    i += 1\n",
    "                else:\n",
    "                    df_results = pd.concat([df_results, pd.read_csv(file_path)])\n",
    "            else:\n",
    "                print(f\"Não há informações sobre treino {train_folder} e validação {validation_folder} para {model}\")\n",
    "\n",
    "            new_v_start_date = (datetime.strptime(new_v_end_date, \"%Y-%m-%d\") + \n",
    "                                relativedelta(months=1)).strftime('%Y-%m-%d')\n",
    "            \n",
    "        new_end_t_folder = t_end_date\n",
    "        new_end_v_folder = new_v_end_date\n",
    "\n",
    "        new_path = f'../{to_folder}/T_{new_start_t_folder}_{new_end_t_folder}/V_{new_start_v_folder}_{new_end_v_folder}'\n",
    "\n",
    "        if len(df_results)>0:\n",
    "            if not os.path.exists(new_path):\n",
    "                os.makedirs(new_path)\n",
    "\n",
    "            df_results.to_csv(f\"{new_path}/{model}.csv\")"
   ]
  },
  {
   "cell_type": "code",
   "execution_count": 4,
   "id": "9d32f1f7",
   "metadata": {},
   "outputs": [],
   "source": [
    "met_comp = [\"MEQ\", \"MENS\", \"MVE\"]\n",
    "prog_lin = [\"MAD\", \"MADD\", \"MINMAX\", \"DMINMAX\"]\n",
    "todos = met_comp + prog_lin\n",
    "\n",
    "v_start_date=\"2021-01-01\"\n",
    "v_end_date=\"2021-12-01\"\n",
    "period = 3\n",
    "\n",
    "aggrupe_datasets(v_start_date, v_end_date, period, \"T3m_V3m_tri\", \"T3m_V3m_anual\", todos)"
   ]
  }
 ],
 "metadata": {
  "kernelspec": {
   "display_name": "Python 3 (ipykernel)",
   "language": "python",
   "name": "python3"
  },
  "language_info": {
   "codemirror_mode": {
    "name": "ipython",
    "version": 3
   },
   "file_extension": ".py",
   "mimetype": "text/x-python",
   "name": "python",
   "nbconvert_exporter": "python",
   "pygments_lexer": "ipython3",
   "version": "3.10.6"
  }
 },
 "nbformat": 4,
 "nbformat_minor": 5
}
