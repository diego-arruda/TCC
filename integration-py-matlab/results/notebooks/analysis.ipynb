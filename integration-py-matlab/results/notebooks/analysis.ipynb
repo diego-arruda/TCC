{
 "cells": [
  {
   "cell_type": "code",
   "execution_count": 1,
   "metadata": {},
   "outputs": [
    {
     "data": {
      "text/plain": [
       "'pt_BR.utf8'"
      ]
     },
     "execution_count": 1,
     "metadata": {},
     "output_type": "execute_result"
    }
   ],
   "source": [
    "import pandas as pd\n",
    "import datetime\n",
    "import locale\n",
    "import os\n",
    "\n",
    "import matplotlib.pyplot as plt\n",
    "\n",
    "locale.setlocale(locale.LC_TIME, 'pt_BR.utf8')"
   ]
  },
  {
   "cell_type": "code",
   "execution_count": 2,
   "metadata": {},
   "outputs": [],
   "source": [
    "def read_data(filename):\n",
    "    df_results = pd.read_csv(filename)\n",
    "    df_results = df_results.drop('datas',axis=1)\n",
    "    df_results = df_results[['variacao_carteira', 'variacao_benchmark']]\n",
    "    \n",
    "    return df_results"
   ]
  },
  {
   "cell_type": "code",
   "execution_count": 3,
   "metadata": {},
   "outputs": [],
   "source": [
    "def calculate_beta(df_results):\n",
    "    covBench = df_results.cov()\n",
    "    var = df_results.var(axis=0)\n",
    "    beta = covBench.iat[0,1]/var[1]\n",
    "    return beta"
   ]
  },
  {
   "cell_type": "code",
   "execution_count": 4,
   "metadata": {},
   "outputs": [],
   "source": [
    "def read_cdi(dt_start,dt_end):\n",
    "    start_month = datetime.datetime.strptime(dt_start, \"%Y-%m-%d\").strftime(\"%b\").upper()\n",
    "    start_year = datetime.datetime.strptime(dt_start, \"%Y-%m-%d\").strftime(\"%Y\")\n",
    "\n",
    "    end_month = datetime.datetime.strptime(dt_end, \"%Y-%m-%d\").strftime(\"%b\").upper()\n",
    "    end_year = datetime.datetime.strptime(dt_end, \"%Y-%m-%d\").strftime(\"%Y\")\n",
    "\n",
    "    cdi_hist = pd.read_csv('../../data/cdi_historico_1986-2022.csv', delimiter=';')\n",
    "    rf_df = pd.DataFrame()\n",
    "\n",
    "    if end_year != start_year:\n",
    "        for ano in range(int(start_year),int(end_year)+1):\n",
    "            print(ano)\n",
    "            if ano != int(end_year) and ano != int(start_year): # ano intermediario (entre inicial e final)\n",
    "                rf_df = pd.concat([rf_df,cdi_hist[str(ano)]], axis=0)\n",
    "            elif ano == int(end_year):\n",
    "                print('end year')\n",
    "                month_number = cdi_hist.index[cdi_hist['MES'] == end_month].tolist()[0]\n",
    "                for j in range(month_number):\n",
    "                    rf_df = pd.concat([rf_df,cdi_hist[str(ano)].filter(items=[j],axis=0)], axis=0)\n",
    "            elif ano == int(start_year):\n",
    "                print('start year')\n",
    "                month_number = cdi_hist.index[cdi_hist['MES'] == start_month].tolist()[0]\n",
    "                for k in range(month_number-1,12):\n",
    "                    rf_df = pd.concat([rf_df,cdi_hist[str(ano)].filter(items=[k],axis=0)], axis=0)\n",
    "    else:\n",
    "        start_month_number = cdi_hist.index[cdi_hist['MES'] == start_month].tolist()[0]\n",
    "        end_month_number = cdi_hist.index[cdi_hist['MES'] == end_month].tolist()[0]\n",
    "        for m in range(start_month_number,end_month_number+1):\n",
    "            rf_df = pd.concat([rf_df,cdi_hist[str(end_year)].filter(items=[m],axis=0)], axis=0)\n",
    "\n",
    "    return rf_df"
   ]
  },
  {
   "cell_type": "code",
   "execution_count": 5,
   "metadata": {},
   "outputs": [],
   "source": [
    "def calculate_sharpe(df_results,rf):\n",
    "    r = df_results['variacao_carteira'].mean()\n",
    "    std = df_results['variacao_carteira'].std()\n",
    "    Sf = (r-rf)/std\n",
    "    return Sf"
   ]
  },
  {
   "cell_type": "code",
   "execution_count": 6,
   "metadata": {},
   "outputs": [],
   "source": [
    "def calculate_err(df_results):\n",
    "    res_benchmark = df_results['variacao_benchmark'].to_numpy()\n",
    "    res_carteira = df_results['variacao_carteira'].to_numpy()\n",
    "\n",
    "    ret_benchmark = 1\n",
    "    ret_carteira = 1\n",
    "    for i in range(len(res_benchmark)):\n",
    "        ret_benchmark = ret_benchmark * (1 + res_benchmark[i])\n",
    "        ret_carteira = ret_carteira * (1 + res_carteira[i])\n",
    "\n",
    "    err = ret_carteira-ret_benchmark\n",
    "    return abs(err), err\n",
    "\n"
   ]
  },
  {
   "cell_type": "code",
   "execution_count": 7,
   "metadata": {},
   "outputs": [],
   "source": [
    "def create_analysis(folder):\n",
    "    df_betas = pd.DataFrame()\n",
    "    index = 0\n",
    "    for file_train in os.listdir(f\"../{folder}\"):\n",
    "        if file_train.startswith(\"T_\"):\n",
    "            t_start_date, t_end_date = file_train.split(\"_\")[1:]\n",
    "\n",
    "            for file_validate in os.listdir(f\"../{folder}/{file_train}\"):\n",
    "                if file_validate.startswith(\"V_\"):\n",
    "                    v_start_date, v_end_date = file_validate.split(\"_\")[1:]\n",
    "\n",
    "                train_folder = (f\"T_{t_start_date}_{t_end_date}\")\n",
    "                validation_folder = (f\"V_{v_start_date}_{v_end_date}\")\n",
    "\n",
    "                path = f'../{folder}/{train_folder}/{validation_folder}'\n",
    "                for file in os.listdir(path):\n",
    "                    if file.endswith(\".csv\"):\n",
    "                        model = file.split('.')[0]\n",
    "                        filename = f'{path}/{model}.csv'\n",
    "                        results = read_data(filename)\n",
    "                        beta = calculate_beta(results)\n",
    "                        rf_df = read_cdi(v_start_date,v_end_date)\n",
    "                        rf = rf_df.iloc[:,0].astype(float).mean()\n",
    "                        sharpe = calculate_sharpe(results,rf)\n",
    "                        mod_err,err = calculate_err(results)\n",
    "                        beta_dict = {\n",
    "                            'dt_ini_treinamento': t_start_date,\n",
    "                            'dt_fin_treinamento': t_end_date,\n",
    "                            'dt_ini_validacao': v_start_date,\n",
    "                            'dt_fin_validacao': v_end_date,\n",
    "                            'modelo': model,\n",
    "                            'beta': beta,\n",
    "                            'sharpe': sharpe,\n",
    "                            'mod_err': mod_err,\n",
    "                            'erro': err\n",
    "                        }\n",
    "                        beta_df = pd.DataFrame(data=beta_dict,index=[index])\n",
    "                        df_betas = pd.concat([df_betas,beta_df])\n",
    "                        index += 1\n",
    "                        \n",
    "    df_betas.to_csv(f'../{folder}/analises.csv')"
   ]
  },
  {
   "cell_type": "code",
   "execution_count": 8,
   "metadata": {},
   "outputs": [],
   "source": [
    "create_analysis(\"T1a_V1a_anual\")\n",
    "create_analysis(\"T3m_V3m_anual\")\n",
    "create_analysis(\"T3m_V3m_tri\")"
   ]
  }
 ],
 "metadata": {
  "kernelspec": {
   "display_name": "Python 3 (ipykernel)",
   "language": "python",
   "name": "python3"
  },
  "language_info": {
   "codemirror_mode": {
    "name": "ipython",
    "version": 3
   },
   "file_extension": ".py",
   "mimetype": "text/x-python",
   "name": "python",
   "nbconvert_exporter": "python",
   "pygments_lexer": "ipython3",
   "version": "3.10.6"
  },
  "vscode": {
   "interpreter": {
    "hash": "3c911671a64eda79117d70fbba2db4c5cec711837572d020e70e7acd3975d1aa"
   }
  }
 },
 "nbformat": 4,
 "nbformat_minor": 2
}
